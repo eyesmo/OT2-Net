{
 "cells": [
  {
   "cell_type": "code",
   "execution_count": 2,
   "metadata": {},
   "outputs": [
    {
     "name": "stdout",
     "output_type": "stream",
     "text": [
      "Collecting opentrons\n",
      "\u001b[?25l  Downloading https://files.pythonhosted.org/packages/f9/85/b4bc34903c2f4dac782d11000d352c82fd3893616871adab22060dff665a/opentrons-2.5.2-py2.py3-none-any.whl (110kB)\n",
      "\u001b[K    100% |████████████████████████████████| 112kB 1.2MB/s ta 0:00:01\n",
      "\u001b[?25hCollecting requests==2.14.2 (from opentrons)\n",
      "\u001b[?25l  Downloading https://files.pythonhosted.org/packages/e4/b0/286e8a936158e5cc5791d5fa3bc4b1d5a7e1ff4e5b3f3766b63d8e97708a/requests-2.14.2-py2.py3-none-any.whl (560kB)\n",
      "\u001b[K    100% |████████████████████████████████| 563kB 968kB/s ta 0:00:01\n",
      "\u001b[?25hCollecting pyserial==3.2.1 (from opentrons)\n",
      "\u001b[?25l  Downloading https://files.pythonhosted.org/packages/c0/a7/25d801d71d2eecbbf0f1142a9d38aa77be71172295259dabb7d91310289c/pyserial-3.2.1-py2.py3-none-any.whl (189kB)\n",
      "\u001b[K    100% |████████████████████████████████| 194kB 1.3MB/s ta 0:00:01\n",
      "\u001b[?25hCollecting dill==0.2.5 (from opentrons)\n",
      "\u001b[?25l  Downloading https://files.pythonhosted.org/packages/47/59/a72f5c3b17647031d426cd3df6874c7e2a8821b007ef4241ee4a59594cb3/dill-0.2.5.tgz (60kB)\n",
      "\u001b[K    100% |████████████████████████████████| 61kB 1.1MB/s ta 0:00:01\n",
      "\u001b[?25hBuilding wheels for collected packages: dill\n",
      "  Running setup.py bdist_wheel for dill ... \u001b[?25ldone\n",
      "\u001b[?25h  Stored in directory: /Users/isaac/Library/Caches/pip/wheels/d0/f9/bb/01e2c9bc71ab75df06848f7eb23aa58b0e24713332aee81aa2\n",
      "Successfully built dill\n",
      "\u001b[31msmart-open 1.5.6 requires boto3, which is not installed.\u001b[0m\n",
      "Installing collected packages: requests, pyserial, dill, opentrons\n",
      "  Found existing installation: requests 2.19.1\n",
      "    Uninstalling requests-2.19.1:\n",
      "      Successfully uninstalled requests-2.19.1\n",
      "Successfully installed dill-0.2.5 opentrons-2.5.2 pyserial-3.2.1 requests-2.19.1\n"
     ]
    }
   ],
   "source": [
    "#The purpose of this project is (1) to implement webcam livestreaming of OpenTrons bots, \n",
    "#(2) to enable remote control/access of OT2 bots through VPN into the OT2 bot's local wifi network, \n",
    "#and (3) in the long run, scale this implementation to a network of OT2 bots to allow people to request \n",
    "#and run protocols on whichever bot is free/unoccupied at the time\n",
    "\n",
    "#Install OpenTrons API\n",
    "#!pip install opentrons\n"
   ]
  },
  {
   "cell_type": "code",
   "execution_count": null,
   "metadata": {},
   "outputs": [
    {
     "name": "stdout",
     "output_type": "stream",
     "text": [
      "The authenticity of host 'ec2-3-17-63-110.us-east-2.compute.amazonaws.com (3.17.63.110)' can't be established.\r\n",
      "ECDSA key fingerprint is SHA256:IeQmT2/kfVYESPCF+n5X2tkGbvfnvu3J5XZ1u3zX2BM.\r\n",
      "Are you sure you want to continue connecting (yes/no)? "
     ]
    }
   ],
   "source": [
    "#Now access the remote computing instance (EC2) that Chris has set up for this project\n",
    "#!chmod 400 dummy-ot2-node.pem\n",
    "#!ssh -i \"dummy-ot2-node.pem\" ubuntu@ec2-3-17-63-110.us-east-2.compute.amazonaws.com"
   ]
  },
  {
   "cell_type": "code",
   "execution_count": 2,
   "metadata": {},
   "outputs": [
    {
     "name": "stdout",
     "output_type": "stream",
     "text": [
      "Cloning into 'OT2-Net'...\n",
      "remote: Enumerating objects: 9, done.\u001b[K\n",
      "remote: Counting objects: 100% (9/9), done.\u001b[K\n",
      "remote: Compressing objects: 100% (5/5), done.\u001b[K\n",
      "remote: Total 9 (delta 1), reused 0 (delta 0), pack-reused 0\u001b[K\n",
      "Unpacking objects: 100% (9/9), done.\n"
     ]
    }
   ],
   "source": [
    "#See if I can clone the OT2-net\n",
    "!git clone https://github.com/eyesmo/OT2-Net"
   ]
  },
  {
   "cell_type": "code",
   "execution_count": 4,
   "metadata": {},
   "outputs": [
    {
     "name": "stdout",
     "output_type": "stream",
     "text": [
      "Initialized empty Git repository in /Users/isaac/Desktop/FreeGenes/OT2-Net/.git/\r\n"
     ]
    }
   ],
   "source": [
    "!git init"
   ]
  },
  {
   "cell_type": "code",
   "execution_count": 11,
   "metadata": {},
   "outputs": [
    {
     "name": "stdout",
     "output_type": "stream",
     "text": [
      "On branch master\r\n",
      "\r\n",
      "No commits yet\r\n",
      "\r\n",
      "Untracked files:\r\n",
      "  (use \"git add <file>...\" to include in what will be committed)\r\n",
      "\r\n",
      "\t\u001b[31m.DS_Store\u001b[m\r\n",
      "\t\u001b[31m.ipynb_checkpoints/\u001b[m\r\n",
      "\t\u001b[31m20190518 OT2-Net Project.ipynb\u001b[m\r\n",
      "\t\u001b[31mOT2-Net/\u001b[m\r\n",
      "\t\u001b[31mdummy-ot2-node.pem\u001b[m\r\n",
      "\r\n",
      "nothing added to commit but untracked files present (use \"git add\" to track)\r\n"
     ]
    }
   ],
   "source": [
    "!git status"
   ]
  },
  {
   "cell_type": "code",
   "execution_count": 17,
   "metadata": {},
   "outputs": [
    {
     "name": "stdout",
     "output_type": "stream",
     "text": [
      "remote: Enumerating objects: 9, done.\u001b[K\n",
      "remote: Counting objects: 100% (9/9), done.\u001b[K\n",
      "remote: Compressing objects: 100% (5/5), done.\u001b[K\n",
      "remote: Total 9 (delta 1), reused 0 (delta 0), pack-reused 0\u001b[K\n",
      "Unpacking objects: 100% (9/9), done.\n",
      "From https://github.com/eyesmo/OT2-Net\n",
      " * branch            HEAD       -> FETCH_HEAD\n"
     ]
    }
   ],
   "source": [
    "!git pull https://github.com/eyesmo/OT2-Net"
   ]
  },
  {
   "cell_type": "code",
   "execution_count": 20,
   "metadata": {},
   "outputs": [
    {
     "name": "stdout",
     "output_type": "stream",
     "text": [
      "On branch master\r\n",
      "Changes not staged for commit:\r\n",
      "  (use \"git add <file>...\" to update what will be committed)\r\n",
      "  (use \"git checkout -- <file>...\" to discard changes in working directory)\r\n",
      "\r\n",
      "\t\u001b[31mmodified:   README.md\u001b[m\r\n",
      "\r\n",
      "Untracked files:\r\n",
      "  (use \"git add <file>...\" to include in what will be committed)\r\n",
      "\r\n",
      "\t\u001b[31m.DS_Store\u001b[m\r\n",
      "\t\u001b[31m.ipynb_checkpoints/\u001b[m\r\n",
      "\t\u001b[31m20190518 OT2-Net Project.ipynb\u001b[m\r\n",
      "\t\u001b[31mdummy-ot2-node.pem\u001b[m\r\n",
      "\r\n",
      "no changes added to commit (use \"git add\" and/or \"git commit -a\")\r\n"
     ]
    }
   ],
   "source": [
    "!git status"
   ]
  },
  {
   "cell_type": "code",
   "execution_count": 21,
   "metadata": {},
   "outputs": [],
   "source": [
    "!git add readme.md"
   ]
  },
  {
   "cell_type": "code",
   "execution_count": 22,
   "metadata": {},
   "outputs": [
    {
     "name": "stdout",
     "output_type": "stream",
     "text": [
      "On branch master\r\n",
      "Changes not staged for commit:\r\n",
      "  (use \"git add <file>...\" to update what will be committed)\r\n",
      "  (use \"git checkout -- <file>...\" to discard changes in working directory)\r\n",
      "\r\n",
      "\t\u001b[31mmodified:   README.md\u001b[m\r\n",
      "\r\n",
      "Untracked files:\r\n",
      "  (use \"git add <file>...\" to include in what will be committed)\r\n",
      "\r\n",
      "\t\u001b[31m.DS_Store\u001b[m\r\n",
      "\t\u001b[31m.ipynb_checkpoints/\u001b[m\r\n",
      "\t\u001b[31m20190518 OT2-Net Project.ipynb\u001b[m\r\n",
      "\t\u001b[31mdummy-ot2-node.pem\u001b[m\r\n",
      "\r\n",
      "no changes added to commit (use \"git add\" and/or \"git commit -a\")\r\n"
     ]
    }
   ],
   "source": [
    "!git status"
   ]
  },
  {
   "cell_type": "code",
   "execution_count": 23,
   "metadata": {},
   "outputs": [
    {
     "name": "stdout",
     "output_type": "stream",
     "text": [
      "On branch master\r\n",
      "Changes not staged for commit:\r\n",
      "\t\u001b[31mmodified:   README.md\u001b[m\r\n",
      "\r\n",
      "Untracked files:\r\n",
      "\t\u001b[31m.DS_Store\u001b[m\r\n",
      "\t\u001b[31m.ipynb_checkpoints/\u001b[m\r\n",
      "\t\u001b[31m20190518 OT2-Net Project.ipynb\u001b[m\r\n",
      "\t\u001b[31mdummy-ot2-node.pem\u001b[m\r\n",
      "\r\n",
      "no changes added to commit\r\n"
     ]
    }
   ],
   "source": [
    "!git commit -m \"Add language to test my git skills\""
   ]
  },
  {
   "cell_type": "code",
   "execution_count": 27,
   "metadata": {},
   "outputs": [
    {
     "name": "stdout",
     "output_type": "stream",
     "text": [
      "From https://github.com/eyesmo/OT2-Net\r\n",
      " * branch            HEAD       -> FETCH_HEAD\r\n"
     ]
    }
   ],
   "source": [
    "#Obtain latest version of project from GitHub, and merge with the local master version\n",
    "!git fetch https://github.com/eyesmo/OT2-Net\n",
    "!git merge FETCH_HEAD"
   ]
  },
  {
   "cell_type": "code",
   "execution_count": 41,
   "metadata": {},
   "outputs": [
    {
     "name": "stdout",
     "output_type": "stream",
     "text": [
      "fatal: A branch named 'dabble' already exists.\n",
      "M\tREADME.md\n",
      "Switched to branch 'dabble'\n"
     ]
    }
   ],
   "source": [
    "#Now make a branch to dabble in\n",
    "!git branch dabble"
   ]
  },
  {
   "cell_type": "code",
   "execution_count": 42,
   "metadata": {},
   "outputs": [
    {
     "name": "stdout",
     "output_type": "stream",
     "text": [
      "M\tREADME.md\r\n",
      "Already on 'dabble'\r\n"
     ]
    }
   ],
   "source": [
    "!git checkout dabble"
   ]
  },
  {
   "cell_type": "code",
   "execution_count": 1,
   "metadata": {},
   "outputs": [],
   "source": [
    "!git add readme.md"
   ]
  },
  {
   "cell_type": "code",
   "execution_count": 2,
   "metadata": {},
   "outputs": [
    {
     "name": "stdout",
     "output_type": "stream",
     "text": [
      "On branch dabble\r\n",
      "Changes not staged for commit:\r\n",
      "\t\u001b[31mmodified:   README.md\u001b[m\r\n",
      "\r\n",
      "Untracked files:\r\n",
      "\t\u001b[31m.DS_Store\u001b[m\r\n",
      "\t\u001b[31m.ipynb_checkpoints/\u001b[m\r\n",
      "\t\u001b[31m20190518_OT2-NetProject.ipynb\u001b[m\r\n",
      "\t\u001b[31mdummy-ot2-node.pem\u001b[m\r\n",
      "\r\n",
      "no changes added to commit\r\n"
     ]
    }
   ],
   "source": [
    "!git commit -m \"Test if this change on the dabble branch properly integrates\""
   ]
  },
  {
   "cell_type": "code",
   "execution_count": 3,
   "metadata": {},
   "outputs": [],
   "source": [
    "!git add 20190518_OT2-NetProject.ipynb"
   ]
  },
  {
   "cell_type": "code",
   "execution_count": 5,
   "metadata": {},
   "outputs": [],
   "source": [
    "!git add README.md"
   ]
  },
  {
   "cell_type": "code",
   "execution_count": 6,
   "metadata": {},
   "outputs": [
    {
     "name": "stdout",
     "output_type": "stream",
     "text": [
      "[dabble 33f7397] Test if this change on the dabble branch properly integrates\r\n",
      " 2 files changed, 359 insertions(+)\r\n",
      " create mode 100644 20190518_OT2-NetProject.ipynb\r\n"
     ]
    }
   ],
   "source": [
    "!git commit -m \"Test if this change on the dabble branch properly integrates\""
   ]
  },
  {
   "cell_type": "code",
   "execution_count": 10,
   "metadata": {},
   "outputs": [
    {
     "name": "stdout",
     "output_type": "stream",
     "text": [
      "Cloning into 'dabbleDir'...\n",
      "remote: Enumerating objects: 9, done.\u001b[K\n",
      "remote: Counting objects: 100% (9/9), done.\u001b[K\n",
      "remote: Compressing objects: 100% (5/5), done.\u001b[K\n",
      "remote: Total 9 (delta 1), reused 0 (delta 0), pack-reused 0\u001b[K\n",
      "Unpacking objects: 100% (9/9), done.\n"
     ]
    }
   ],
   "source": [
    "!git push "
   ]
  },
  {
   "cell_type": "code",
   "execution_count": 14,
   "metadata": {},
   "outputs": [],
   "source": [
    "!cd dabbleDir"
   ]
  },
  {
   "cell_type": "code",
   "execution_count": 15,
   "metadata": {},
   "outputs": [
    {
     "name": "stdout",
     "output_type": "stream",
     "text": [
      "/Users/isaac/Desktop/FreeGenes/ot2-net\r\n"
     ]
    }
   ],
   "source": []
  },
  {
   "cell_type": "code",
   "execution_count": null,
   "metadata": {},
   "outputs": [],
   "source": []
  }
 ],
 "metadata": {
  "kernelspec": {
   "display_name": "Python 3",
   "language": "python",
   "name": "python3"
  },
  "language_info": {
   "codemirror_mode": {
    "name": "ipython",
    "version": 2
   },
   "file_extension": ".py",
   "mimetype": "text/x-python",
   "name": "python",
   "nbconvert_exporter": "python",
   "pygments_lexer": "ipython2",
   "version": "2.7.15"
  }
 },
 "nbformat": 4,
 "nbformat_minor": 2
}
